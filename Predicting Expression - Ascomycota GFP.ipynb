{
 "cells": [
  {
   "cell_type": "code",
   "execution_count": 9,
   "metadata": {},
   "outputs": [],
   "source": [
    "import numpy as np\n",
    "import pandas as pd\n",
    "\n",
    "from scipy import stats, special, spatial\n",
    "\n",
    "import matplotlib.pyplot as plt\n",
    "import seaborn as sns\n",
    "\n",
    "from matplotlib.lines import Line2D\n",
    "import matplotlib as mpl\n",
    "mpl.rcParams['figure.dpi'] = 300\n",
    "\n",
    "import importlib.util\n",
    "import os\n",
    "\n",
    "import warnings\n",
    "warnings.filterwarnings('ignore')\n",
    "\n",
    "#s.environ[\"CUDA_DEVICE_ORDER\"]=\"PCI_BUS_ID\"   # see issue #152\n",
    "os.environ[\"CUDA_VISIBLE_DEVICES\"]=\"1\"\n",
    "\n",
    "import keras\n",
    "import numpy as np\n",
    "import pandas as pd\n",
    "import importlib.util\n",
    "import os\n",
    "\n",
    "from scipy import stats, special, spatial\n",
    "from scipy.stats import gaussian_kde\n",
    "\n",
    "import matplotlib.pyplot as plt\n",
    "import seaborn as sns\n",
    "\n",
    "from matplotlib.lines import Line2D\n",
    "import matplotlib as mpl\n",
    "\n",
    "# https://github.com/jnothman/UpSetPlot\n",
    "import upsetplot\n",
    "\n",
    "import warnings\n",
    "warnings.filterwarnings('ignore')\n",
    "\n",
    "#os.environ[\"CUDA_DEVICE_ORDER\"]=\"PCI_BUS_ID\"   # see issue #152\n",
    "os.environ[\"CUDA_VISIBLE_DEVICES\"]=\"1\"\n"
   ]
  },
  {
   "cell_type": "code",
   "execution_count": 24,
   "metadata": {},
   "outputs": [],
   "source": [
    "#Datasets\n",
    "#Ascomycota Native\n",
    "#AscomycotaXvalCombined = np.load('D:/Users/ernes/Documents/1KCL/Zelezniak/DeepExpressionWorking/2018_11_26/data_combined_df_output/Ascomycota.Xval.npy', allow_pickle=True)\n",
    "#AscomycotaXhotCombined = np.load('D:/Users/ernes/Documents/1KCL/Zelezniak/DeepExpressionWorking/2018_11_26/data_combined_df_output/Ascomycota.Xhot.npy', allow_pickle=True)\n",
    "#AscomycotaTestCombined = [AscomycotaXvalCombined, AscomycotaXhotCombined]\n",
    "#AscomycotaTestCombined = [AscomycotaXhotCombined, AscomycotaXvalCombined]\n",
    "\n",
    "#Ascomycota Input Data GFP Replaced\n",
    "GFPAscomycotaXvalCombined = np.load('D:/Users/ernes/Documents/1KCL/Zelezniak/DeepExpressionWorking/2018_11_26/gfp_data_combined_output/Ascomycota_GFP.Xval.npy', allow_pickle=True)\n",
    "GFPAscomycotaXhotCombined = np.load('D:/Users/ernes/Documents/1KCL/Zelezniak/DeepExpressionWorking/2018_11_26/gfp_data_combined_output/Ascomycota_GFP.Xhot.npy', allow_pickle=True)\n",
    "#GFPAscomycotaTestCombined = [GFPAscomycotaXvalCombined, GFPAscomycotaXhotCombined]\n",
    "GFPAscomycotaTestCombined = [GFPAscomycotaXhotCombined, GFPAscomycotaXvalCombined]\n",
    "\n",
    "#Saccharmoyces\n",
    "# Data\n",
    "fn1 = 'scerevisiae_tpm_full_cut5.csv'\n",
    "fn2 = 'scerevisiae_accessions.tsv'\n",
    "fn3 = 'scerevisiae.rsd1.lmbda_22.npz'\n",
    "fn4 = 'Saccharomyces_cerevisiae.R64-1-1.regions.csv'\n",
    "\n",
    "fn5 = 'organisms_deep_results.csv'\n",
    "\n",
    "## datasets\n",
    "folder = 'D:/Users/ernes/Documents/1KCL/Zelezniak/Data1/'\n",
    "\n",
    "#Model\n",
    "fname_data1 = folder+'scerevisiae.rsd1.lmbda_22.npz'\n",
    "fname_module1 = folder+'Model_C3F2all.py'\n",
    "fname_p1 = folder+'scerevisiae_good_rsd1_lmbda22_Model_C3F2all_1234_c008090fd8e4b9971fe71eed502c9f7b_best.p'\n",
    "fname_weights1 = folder+'scerevisiae_good_rsd1_lmbda22_Model_C3F2all_1234_c008090fd8e4b9971fe71eed502c9f7b_best'\n",
    "\n",
    "fname_module2 = folder+'Model_L2_C3F2addvarsopen_loadox.py'\n",
    "fname_data2 = folder+'scerevisiae.rsd1.lmbda_22.1000.npz'\n",
    "fname_p2 = folder+'scerevisiae_rsd1_merged_Model_C3F2_open_1241_0c6919106ab536108b55fd92965886b3_best.p'\n",
    "fname_weights2 = folder+'scerevisiae_rsd1_merged_Model_C3F2_open_1241_0c6919106ab536108b55fd92965886b3_best'"
   ]
  },
  {
   "cell_type": "code",
   "execution_count": 11,
   "metadata": {},
   "outputs": [],
   "source": [
    "def load_data(fname):\n",
    "    #X is multi-variable array\n",
    "    #Y contains single variable - fix shape for Keras\n",
    "\n",
    "    npzfile = np.load(fname,allow_pickle=True)\n",
    "    Xh_train = npzfile['arr_0']\n",
    "    Xh_test = npzfile['arr_1']\n",
    "    Xv_train = npzfile['arr_2'][:,8:]\n",
    "    Xv_test = npzfile['arr_3'][:,8:]\n",
    "    Y_train = npzfile['arr_4']\n",
    "    Y_test = npzfile['arr_5']\n",
    "    names_train = npzfile['arr_6']\n",
    "    names_test = npzfile['arr_7']\n",
    "\n",
    "    X_train = list()\n",
    "    X_train.append(Xh_train)\n",
    "    #X_train.append(Xv_train)\n",
    "    X_test = list()\n",
    "    X_test.append(Xh_test)\n",
    "    #X_test.append(Xv_test)\n",
    "\n",
    "    Y_train = Y_train.astype(np.float32).reshape((-1,))\n",
    "    Y_test = Y_test.astype(np.float32).reshape((-1,))\n",
    "\n",
    "    return (np.concatenate((Y_train, Y_test)), \n",
    "            np.concatenate((names_train,names_test)), \n",
    "            np.concatenate((Xv_train,Xv_test)))"
   ]
  },
  {
   "cell_type": "code",
   "execution_count": 12,
   "metadata": {},
   "outputs": [],
   "source": [
    "#load modules - POC model\n",
    "def load_module(model_path):\n",
    "    '''loads module containing models given path'''\n",
    "    spec = importlib.util.spec_from_file_location('module',model_path)\n",
    "    module = importlib.util.module_from_spec(spec)\n",
    "    spec.loader.exec_module(module)\n",
    "    return module"
   ]
  },
  {
   "cell_type": "code",
   "execution_count": 13,
   "metadata": {},
   "outputs": [
    {
     "name": "stdout",
     "output_type": "stream",
     "text": [
      "(42,)\n",
      "2\n",
      "425\n",
      "Loading model 1 from disk..\n"
     ]
    }
   ],
   "source": [
    "#Load data and model\n",
    "module = load_module(fname_module1)\n",
    "\n",
    "#Load p\n",
    "p = pd.read_csv(fname_p1,sep=';')\n",
    "p = p.iloc[0]\n",
    "p.drop(['path','overfit'],inplace=True)\n",
    "print(p.shape)\n",
    "\n",
    "#Load data\n",
    "X_train, X_test, Y_train, Y_test = module.load_data(fname_data1) \n",
    "# Y = np.concatenate((Y_train, Y_test))\n",
    "# X = np.concatenate((X_train[0], X_test[0]))\n",
    "print(len(X_test))\n",
    "print(len(Y_test))\n",
    "\n",
    "#Model\n",
    "input_shapes = [sl.shape[1:] for sl in X_train]\n",
    "model = module.POC_model(input_shapes, p)\n",
    "#Set weights model 1\n",
    "print(\"Loading model 1 from disk..\")\n",
    "model.load_weights(fname_weights1)"
   ]
  },
  {
   "cell_type": "code",
   "execution_count": 15,
   "metadata": {},
   "outputs": [
    {
     "name": "stdout",
     "output_type": "stream",
     "text": [
      "2627/2627 [==============================] - 493s 188ms/step\n",
      "2627/2627 [==============================] - 489s 186ms/step\n"
     ]
    }
   ],
   "source": [
    "#Predict\n",
    "#GFP_Ascomycota_pred = model.predict(GFPAscomycotaTestCombined)\n",
    "#DUE TO MEMORY CONSTRAINTS\n",
    "\n",
    "# Splitting the data\n",
    "GFPAscomycotaTestCombined_split1 = [data[:data.shape[0]//2] for data in GFPAscomycotaTestCombined]\n",
    "GFPAscomycotaTestCombined_split2 = [data[data.shape[0]//2:] for data in GFPAscomycotaTestCombined]\n",
    "\n",
    "# Predicting on each half\n",
    "GFPAscomycota_pred1 = model.predict(GFPAscomycotaTestCombined_split1)\n",
    "GFPAscomycota_pred2 = model.predict(GFPAscomycotaTestCombined_split2)\n",
    "\n",
    "# Concatenating the two halves\n",
    "GFP_Ascomycota_pred = np.concatenate((GFPAscomycota_pred1, GFPAscomycota_pred2), axis=0)\n"
   ]
  },
  {
   "cell_type": "code",
   "execution_count": 17,
   "metadata": {},
   "outputs": [],
   "source": [
    "# Concatenating the two halves\n",
    "GFP_Ascomycota_pred = np.concatenate((GFPAscomycota_pred1, GFPAscomycota_pred2), axis=0)"
   ]
  },
  {
   "cell_type": "code",
   "execution_count": 18,
   "metadata": {},
   "outputs": [],
   "source": [
    "import numpy as np\n",
    "#Define the path\n",
    "file_path = r\"D:/Users/ernes/Documents/1KCL/Zelezniak/DeepExpressionWorking/2018_11_26/gfp_data_combined_output/GFP_Ascomycota_pred.npy\"\n",
    "#Save the array to the specified file\n",
    "np.save(file_path, GFP_Ascomycota_pred)"
   ]
  },
  {
   "cell_type": "code",
   "execution_count": 20,
   "metadata": {},
   "outputs": [
    {
     "name": "stdout",
     "output_type": "stream",
     "text": [
      "[(168066, 2150, 4), (168066, 72)]\n",
      "[(84033, 2150, 4), (84033, 72)]\n",
      "[(84033, 2150, 4), (84033, 72)]\n"
     ]
    }
   ],
   "source": [
    "# Assuming GFPAscomycotaTestCombined is a list of numpy arrays\n",
    "print([data.shape for data in GFPAscomycotaTestCombined])\n",
    "# Printing shapes\n",
    "print([data.shape for data in GFPAscomycotaTestCombined_split1])\n",
    "print([data.shape for data in GFPAscomycotaTestCombined_split2])"
   ]
  },
  {
   "cell_type": "code",
   "execution_count": null,
   "metadata": {},
   "outputs": [],
   "source": [
    "GFPAscomycotaXvalCombined = np.load('D:/Users/ernes/Documents/1KCL/Zelezniak/DeepExpressionWorking/2018_11_26/gfp_data_combined_output/Ascomycota_GFP.Xval.npy', allow_pickle=True)\n",
    "GFPAscomycotaXhotCombined = np.load('D:/Users/ernes/Documents/1KCL/Zelezniak/DeepExpressionWorking/2018_11_26/gfp_data_combined_output/Ascomycota_GFP.Xhot.npy', allow_pickle=True)"
   ]
  }
 ],
 "metadata": {
  "kernelspec": {
   "display_name": "Python 3 (ipykernel)",
   "language": "python",
   "name": "python3"
  },
  "language_info": {
   "codemirror_mode": {
    "name": "ipython",
    "version": 3
   },
   "file_extension": ".py",
   "mimetype": "text/x-python",
   "name": "python",
   "nbconvert_exporter": "python",
   "pygments_lexer": "ipython3",
   "version": "3.9.7"
  }
 },
 "nbformat": 4,
 "nbformat_minor": 2
}
