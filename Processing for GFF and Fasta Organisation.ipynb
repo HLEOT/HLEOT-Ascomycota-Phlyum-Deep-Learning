{
 "cells": [
  {
   "cell_type": "code",
   "execution_count": 3,
   "id": "9d1569b2",
   "metadata": {},
   "outputs": [],
   "source": [
    "#Folder 1 = Location to save below data\n",
    "folder1 = 'D:/Users/ernes/Documents/1KCL/Zelezniak/Testing/Folder1/'\n",
    "\n",
    "#Folder 2 = Location of the downloaded GFF files\n",
    "folder2 = 'D:/Users/ernes/Documents/1KCL/Zelezniak/Testing/Folder2/'"
   ]
  },
  {
   "cell_type": "code",
   "execution_count": 5,
   "id": "466dba7b",
   "metadata": {},
   "outputs": [],
   "source": [
    "import os\n",
    "import numpy as np\n",
    "\n",
    "# Get a list of filenames in the folder2 directory\n",
    "filenames = os.listdir(folder2)\n",
    "\n",
    "# Get a list of filenames in the folder2 directory\n",
    "filenames = os.listdir(folder2)\n",
    "\n",
    "# Filter the list to only include gff and fasta files\n",
    "filtered_filenames = [file for file in filenames if file.endswith(\".gff3\") or file.endswith(\".fa\")]\n",
    "\n",
    "# Save the filtered filenames list to a numpy file in folder1\n",
    "np.save(folder1 + 'filenames_organisms_1_10_19.npy', filtered_filenames)"
   ]
  },
  {
   "cell_type": "code",
   "execution_count": 4,
   "id": "3365695c",
   "metadata": {},
   "outputs": [],
   "source": [
    "import os\n",
    "import numpy as np\n",
    "\n",
    "# Get a list of filenames in the folder2 directory\n",
    "filenames = os.listdir(folder2)\n",
    "\n",
    "# Filter the list to only include gff and fasta files\n",
    "filtered_filenames = [file + '.gz' if file.endswith(\".gff3\") else file for file in filenames if file.endswith(\".gff3\")]\n",
    "\n",
    "# Save the filtered filenames list to a numpy file in folder1\n",
    "np.save(folder2 + 'filenames_organisms_1_10_19.npy', filtered_filenames)"
   ]
  }
 ],
 "metadata": {
  "kernelspec": {
   "display_name": "Python 3 (ipykernel)",
   "language": "python",
   "name": "python3"
  },
  "language_info": {
   "codemirror_mode": {
    "name": "ipython",
    "version": 3
   },
   "file_extension": ".py",
   "mimetype": "text/x-python",
   "name": "python",
   "nbconvert_exporter": "python",
   "pygments_lexer": "ipython3",
   "version": "3.9.7"
  }
 },
 "nbformat": 4,
 "nbformat_minor": 5
}
