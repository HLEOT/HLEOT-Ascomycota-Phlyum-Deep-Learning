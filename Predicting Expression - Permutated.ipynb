{
 "cells": [
  {
   "cell_type": "code",
   "execution_count": 3,
   "metadata": {},
   "outputs": [],
   "source": [
    "import numpy as np\n",
    "import pandas as pd\n",
    "\n",
    "from scipy import stats, special, spatial\n",
    "\n",
    "import matplotlib.pyplot as plt\n",
    "import seaborn as sns\n",
    "\n",
    "from matplotlib.lines import Line2D\n",
    "import matplotlib as mpl\n",
    "mpl.rcParams['figure.dpi'] = 300\n",
    "\n",
    "import importlib.util\n",
    "import os\n",
    "\n",
    "import warnings\n",
    "warnings.filterwarnings('ignore')\n",
    "\n",
    "#s.environ[\"CUDA_DEVICE_ORDER\"]=\"PCI_BUS_ID\"   # see issue #152\n",
    "os.environ[\"CUDA_VISIBLE_DEVICES\"]=\"1\"\n",
    "\n",
    "import keras\n",
    "import numpy as np\n",
    "import pandas as pd\n",
    "import importlib.util\n",
    "import os\n",
    "\n",
    "from scipy import stats, special, spatial\n",
    "from scipy.stats import gaussian_kde\n",
    "\n",
    "import matplotlib.pyplot as plt\n",
    "import seaborn as sns\n",
    "\n",
    "from matplotlib.lines import Line2D\n",
    "import matplotlib as mpl\n",
    "\n",
    "# https://github.com/jnothman/UpSetPlot\n",
    "import upsetplot\n",
    "\n",
    "import warnings\n",
    "warnings.filterwarnings('ignore')\n",
    "\n",
    "#os.environ[\"CUDA_DEVICE_ORDER\"]=\"PCI_BUS_ID\"   # see issue #152\n",
    "os.environ[\"CUDA_VISIBLE_DEVICES\"]=\"1\"\n"
   ]
  },
  {
   "cell_type": "code",
   "execution_count": 4,
   "metadata": {},
   "outputs": [],
   "source": [
    "#Datasets\n",
    "#Upregulator\n",
    "AscomycotaUpXval = np.load('D:/Users/ernes/Documents/1KCL/Zelezniak/DeepExpressionWorking/2018_11_26/gfp_data_permutate/top_features_permute_final.npy', allow_pickle=True)\n",
    "AscomycotaUpXhot = np.load('D:/Users/ernes/Documents/1KCL/Zelezniak/DeepExpressionWorking/2018_11_26/gfp_data_permutate/top_permutate.Xhot.npy', allow_pickle=True)\n",
    "UpCombined = [AscomycotaUpXhot, AscomycotaUpXval]\n",
    "#Downregulator\n",
    "AscomycotaDownXval = np.load('D:/Users/ernes/Documents/1KCL/Zelezniak/DeepExpressionWorking/2018_11_26/gfp_data_permutate/bottom_features_permute_final.npy', allow_pickle=True)\n",
    "AscomycotaDownXhot = np.load('D:/Users/ernes/Documents/1KCL/Zelezniak/DeepExpressionWorking/2018_11_26/gfp_data_permutate/bottom_permutate.Xhot.npy', allow_pickle=True)\n",
    "DownCombined = [AscomycotaDownXhot, AscomycotaDownXval]\n",
    "\n",
    "## datasets\n",
    "folder = 'D:/Users/ernes/Documents/1KCL/Zelezniak/Data1/'\n",
    "\n",
    "#Model\n",
    "fname_data1 = folder+'scerevisiae.rsd1.lmbda_22.npz'\n",
    "fname_module1 = folder+'Model_C3F2all.py'\n",
    "fname_p1 = folder+'scerevisiae_good_rsd1_lmbda22_Model_C3F2all_1234_c008090fd8e4b9971fe71eed502c9f7b_best.p'\n",
    "fname_weights1 = folder+'scerevisiae_good_rsd1_lmbda22_Model_C3F2all_1234_c008090fd8e4b9971fe71eed502c9f7b_best'\n",
    "\n",
    "fname_module2 = folder+'Model_L2_C3F2addvarsopen_loadox.py'\n",
    "fname_data2 = folder+'scerevisiae.rsd1.lmbda_22.1000.npz'\n",
    "fname_p2 = folder+'scerevisiae_rsd1_merged_Model_C3F2_open_1241_0c6919106ab536108b55fd92965886b3_best.p'\n",
    "fname_weights2 = folder+'scerevisiae_rsd1_merged_Model_C3F2_open_1241_0c6919106ab536108b55fd92965886b3_best'"
   ]
  },
  {
   "cell_type": "code",
   "execution_count": 5,
   "metadata": {},
   "outputs": [],
   "source": [
    "def load_data(fname):\n",
    "    #X is multi-variable array\n",
    "    #Y contains single variable - fix shape for Keras\n",
    "\n",
    "    npzfile = np.load(fname,allow_pickle=True)\n",
    "    Xh_train = npzfile['arr_0']\n",
    "    Xh_test = npzfile['arr_1']\n",
    "    Xv_train = npzfile['arr_2'][:,8:]\n",
    "    Xv_test = npzfile['arr_3'][:,8:]\n",
    "    Y_train = npzfile['arr_4']\n",
    "    Y_test = npzfile['arr_5']\n",
    "    names_train = npzfile['arr_6']\n",
    "    names_test = npzfile['arr_7']\n",
    "\n",
    "    X_train = list()\n",
    "    X_train.append(Xh_train)\n",
    "    #X_train.append(Xv_train)\n",
    "    X_test = list()\n",
    "    X_test.append(Xh_test)\n",
    "    #X_test.append(Xv_test)\n",
    "\n",
    "    Y_train = Y_train.astype(np.float32).reshape((-1,))\n",
    "    Y_test = Y_test.astype(np.float32).reshape((-1,))\n",
    "\n",
    "    return (np.concatenate((Y_train, Y_test)), \n",
    "            np.concatenate((names_train,names_test)), \n",
    "            np.concatenate((Xv_train,Xv_test)))"
   ]
  },
  {
   "cell_type": "code",
   "execution_count": 6,
   "metadata": {},
   "outputs": [],
   "source": [
    "#load modules - POC model\n",
    "def load_module(model_path):\n",
    "    '''loads module containing models given path'''\n",
    "    spec = importlib.util.spec_from_file_location('module',model_path)\n",
    "    module = importlib.util.module_from_spec(spec)\n",
    "    spec.loader.exec_module(module)\n",
    "    return module"
   ]
  },
  {
   "cell_type": "code",
   "execution_count": 7,
   "metadata": {},
   "outputs": [
    {
     "name": "stdout",
     "output_type": "stream",
     "text": [
      "(42,)\n",
      "2\n",
      "425\n",
      "Loading model 1 from disk..\n"
     ]
    }
   ],
   "source": [
    "#Load data and model\n",
    "module = load_module(fname_module1)\n",
    "\n",
    "#Load p\n",
    "p = pd.read_csv(fname_p1,sep=';')\n",
    "p = p.iloc[0]\n",
    "p.drop(['path','overfit'],inplace=True)\n",
    "print(p.shape)\n",
    "\n",
    "#Load data\n",
    "X_train, X_test, Y_train, Y_test = module.load_data(fname_data1) \n",
    "# Y = np.concatenate((Y_train, Y_test))\n",
    "# X = np.concatenate((X_train[0], X_test[0]))\n",
    "print(len(X_test))\n",
    "print(len(Y_test))\n",
    "\n",
    "#Model\n",
    "input_shapes = [sl.shape[1:] for sl in X_train]\n",
    "model = module.POC_model(input_shapes, p)\n",
    "#Set weights model 1\n",
    "print(\"Loading model 1 from disk..\")\n",
    "model.load_weights(fname_weights1)"
   ]
  },
  {
   "cell_type": "code",
   "execution_count": 8,
   "metadata": {
    "scrolled": true
   },
   "outputs": [
    {
     "name": "stdout",
     "output_type": "stream",
     "text": [
      "153/153 [==============================] - 19s 111ms/step\n",
      "154/154 [==============================] - 17s 108ms/step\n"
     ]
    }
   ],
   "source": [
    "#Predict \n",
    "# Predicting on each \n",
    "Permutated_Up_Pred = model.predict(UpCombined)\n",
    "Permutated_Down_Pred = model.predict(DownCombined)"
   ]
  },
  {
   "cell_type": "code",
   "execution_count": 11,
   "metadata": {},
   "outputs": [],
   "source": [
    "file_path = r\"D:/Users/ernes/Documents/1KCL/Zelezniak/DeepExpressionWorking/2018_11_26/gfp_data_permutate/Permutated_Up_Pred.npy\"\n",
    "#Save the array to the specified file\n",
    "np.save(file_path, Permutated_Up_Pred)\n",
    "\n",
    "file_path = r\"D:/Users/ernes/Documents/1KCL/Zelezniak/DeepExpressionWorking/2018_11_26/gfp_data_permutate/Permutated_Down_Pred.npy\"\n",
    "#Save the array to the specified file\n",
    "np.save(file_path, Permutated_Down_Pred)"
   ]
  }
 ],
 "metadata": {
  "kernelspec": {
   "display_name": "Python 3 (ipykernel)",
   "language": "python",
   "name": "python3"
  },
  "language_info": {
   "codemirror_mode": {
    "name": "ipython",
    "version": 3
   },
   "file_extension": ".py",
   "mimetype": "text/x-python",
   "name": "python",
   "nbconvert_exporter": "python",
   "pygments_lexer": "ipython3",
   "version": "3.9.7"
  }
 },
 "nbformat": 4,
 "nbformat_minor": 2
}
